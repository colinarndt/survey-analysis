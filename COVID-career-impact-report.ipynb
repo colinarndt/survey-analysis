{
 "cells": [
  {
   "cell_type": "markdown",
   "id": "6f736628",
   "metadata": {},
   "source": [
    "# The Impact of COVID-19 on Career Plans\n",
    "\n",
    "## Introduction"
   ]
  },
  {
   "cell_type": "markdown",
   "id": "3027cfe9",
   "metadata": {},
   "source": [
    "The pandemic upended life for countless people. However, outside of my own experience and news stories depicting the extremes - poor people getting sick, dying or hanging on by a thread, while the wealthy went unaffected or even bolstered their wealth through the crisis - I was curious to know how people more in the middle of those extremes were affected by and navigated the pandemic. Articles like [this one](https://www.nbcnews.com/know-your-value/feature/61-women-are-looking-change-careers-amid-covid-19-here-ncna1241808) described people responding with a career change, as I did. But what about those outside this demographic?\n",
    "\n",
    "This curiosity drove the following survey. \n",
    "\n",
    "## The survey\n",
    "\n",
    "The research questions were:\n",
    "\n",
    "1. Did COVID-19 affect peoples' career plans? If so, how?\n",
    "2. For those changing plans, why are they changing their plans?\n",
    "3. For those changing plans, what steps are they taking to accomplish the change?\n",
    "\n",
    "Of course, a question implicit in the above is whether age, gender, etc correlate with the decision to change career or not.\n",
    "\n",
    "The survey questions were organized into 4 pages for a logical flow and to avoid making respondents feel overwhelmed: demographic questions, career background questions, career plan change questions, and steps and resources being utilized to make the changes. This breakdown was also intended to make the questions more clear to respondents, as they sometimes covered overlapping but separate issues. As is discussed below, there were multiple areas where this could have been improved.\n",
    "\n",
    "Attempts were made to avoid introducing bias. In the survey itself and the messages requesting participation, I stated that I changed career plans after COVID-19, but did not disclose more than that. I also stated that all responses were requested and appreciated, even if a person had not changed career plans. This was a vital statement to make: if only those who'd made plans to change careers responded to the survey, then it would present a skewed impression of how many people have done so.\n",
    "\n",
    "The target population was middle-income individuals who are 18 or older. The age cutoff required some consideration. Ultimately, I would have done this differently knowing what I do now. People who haven't begun a career yet approach career plans very differently than those who have. A more suitable cutoff would have been 25 years or older. \n",
    "\n",
    "The survey was not posted in the online forums for this course, as I did not want to bias it toward individuals who were pursuing higher education or Data Science careers. Instead, it was posted online in a reddit forum for individuals willing to provide free survey responses. The description of the group includes \"We are also a place for people who enjoy responding to surveys to gather and help people obtain responses for their research. Questions about a mild level of statistics or wording of surveys are also permitted.\" This raises questions of bias, as participants of this group will be people who enjoy filling in surveys in their free time. Thankfully, the demographic results below do not suggest a typical industry or education level from this group.\n",
    "\n",
    "The survey was also sent to friends similar in age to myself. In total it was open for 1 week and received 13 responses. The largest observation to make here is that the responses gathered are simply not sufficient to make meaningful conclusions about the questions at hand. The survey needed to be open longer, or more likely, be published more broadly, to generate more responses. In addition, stratified random sampling would have provided better sampling results, and would have been a more appropriate route if this were being done on behalf of a business or academic institution where this data was more consequential and more resources for reaching participants were available.\n",
    "\n",
    "## Findings\n",
    "\n",
    "Notable findings are highlighted next to relevant plots below. Readers interested in a summary of findings may check the [Conclusions](#conclusions) section."
   ]
  },
  {
   "cell_type": "markdown",
   "id": "51875b8b",
   "metadata": {},
   "source": [
    "# Data Overview"
   ]
  },
  {
   "cell_type": "code",
   "execution_count": 1,
   "id": "b09397f9",
   "metadata": {},
   "outputs": [
    {
     "data": {
      "text/html": [
       "<div>\n",
       "<style scoped>\n",
       "    .dataframe tbody tr th:only-of-type {\n",
       "        vertical-align: middle;\n",
       "    }\n",
       "\n",
       "    .dataframe tbody tr th {\n",
       "        vertical-align: top;\n",
       "    }\n",
       "\n",
       "    .dataframe thead th {\n",
       "        text-align: right;\n",
       "    }\n",
       "</style>\n",
       "<table border=\"1\" class=\"dataframe\">\n",
       "  <thead>\n",
       "    <tr style=\"text-align: right;\">\n",
       "      <th></th>\n",
       "      <th>1. How old are you?</th>\n",
       "      <th>2. What gender do you most strongly identify as?</th>\n",
       "      <th>3. What is the highest level of education you have completed?</th>\n",
       "      <th>4. Which country do you currently reside in?</th>\n",
       "      <th>5. What was your employment status at the start of 2020?</th>\n",
       "      <th>5.a. If you selected Other, please specify:</th>\n",
       "      <th>6. Please select your industry at the start of 2020, if applicable</th>\n",
       "      <th>6.a. If you selected Other, please specify:</th>\n",
       "      <th>6.b. How long had you been in the above industry at the start of 2020?</th>\n",
       "      <th>7. Did you decide to change your career plans as a result of COVID-19?</th>\n",
       "      <th>...</th>\n",
       "      <th>13.2. Government resources or programs</th>\n",
       "      <th>13.3. Vocational organizations</th>\n",
       "      <th>13.4. Newspapers</th>\n",
       "      <th>13.5. Books</th>\n",
       "      <th>13.6. Social networks (ie. LinkedIn or Facebook) or forums</th>\n",
       "      <th>13.7. Blogs, online articles or informational websites</th>\n",
       "      <th>13.8. Family</th>\n",
       "      <th>13.9. Friends</th>\n",
       "      <th>13.10. Therapists, support groups or other help resources</th>\n",
       "      <th>CompletionDate</th>\n",
       "    </tr>\n",
       "  </thead>\n",
       "  <tbody>\n",
       "    <tr>\n",
       "      <th>0</th>\n",
       "      <td>25–34</td>\n",
       "      <td>Male</td>\n",
       "      <td>University undergraduate degree program / degr...</td>\n",
       "      <td>United States</td>\n",
       "      <td>Self-employed part-time</td>\n",
       "      <td>NaN</td>\n",
       "      <td>Arts, Entertainment, and Recreation</td>\n",
       "      <td>NaN</td>\n",
       "      <td>10-19 years</td>\n",
       "      <td>No</td>\n",
       "      <td>...</td>\n",
       "      <td>Not important</td>\n",
       "      <td>Not important</td>\n",
       "      <td>Not important</td>\n",
       "      <td>Moderately important</td>\n",
       "      <td>Slightly important</td>\n",
       "      <td>Slightly important</td>\n",
       "      <td>Slightly important</td>\n",
       "      <td>Slightly important</td>\n",
       "      <td>Important</td>\n",
       "      <td>2021-06-23 08:31:00 UTC</td>\n",
       "    </tr>\n",
       "    <tr>\n",
       "      <th>1</th>\n",
       "      <td>35–44</td>\n",
       "      <td>Male</td>\n",
       "      <td>Doctoral degree</td>\n",
       "      <td>Germany</td>\n",
       "      <td>Self-employed full-time</td>\n",
       "      <td>NaN</td>\n",
       "      <td>Information Services and Data Processing</td>\n",
       "      <td>NaN</td>\n",
       "      <td>20 or more years</td>\n",
       "      <td>No</td>\n",
       "      <td>...</td>\n",
       "      <td>NaN</td>\n",
       "      <td>NaN</td>\n",
       "      <td>NaN</td>\n",
       "      <td>NaN</td>\n",
       "      <td>NaN</td>\n",
       "      <td>NaN</td>\n",
       "      <td>NaN</td>\n",
       "      <td>NaN</td>\n",
       "      <td>NaN</td>\n",
       "      <td>2021-06-23 16:59:36 UTC</td>\n",
       "    </tr>\n",
       "    <tr>\n",
       "      <th>2</th>\n",
       "      <td>25–34</td>\n",
       "      <td>Female</td>\n",
       "      <td>University postgraduate degree program</td>\n",
       "      <td>United States</td>\n",
       "      <td>Employed full-time</td>\n",
       "      <td>NaN</td>\n",
       "      <td>Health Care and Social Assistance</td>\n",
       "      <td>NaN</td>\n",
       "      <td>Less than 1 year</td>\n",
       "      <td>Yes</td>\n",
       "      <td>...</td>\n",
       "      <td>Important</td>\n",
       "      <td>Not important</td>\n",
       "      <td>Not important</td>\n",
       "      <td>Not important</td>\n",
       "      <td>Moderately important</td>\n",
       "      <td>Not important</td>\n",
       "      <td>Moderately important</td>\n",
       "      <td>Moderately important</td>\n",
       "      <td>Not important</td>\n",
       "      <td>2021-06-23 18:22:07 UTC</td>\n",
       "    </tr>\n",
       "    <tr>\n",
       "      <th>3</th>\n",
       "      <td>18–24</td>\n",
       "      <td>Female</td>\n",
       "      <td>High school or equivalent</td>\n",
       "      <td>United Kingdom</td>\n",
       "      <td>Employed full-time</td>\n",
       "      <td>NaN</td>\n",
       "      <td>Hotel and Food Services</td>\n",
       "      <td>NaN</td>\n",
       "      <td>1-2 years</td>\n",
       "      <td>Yes</td>\n",
       "      <td>...</td>\n",
       "      <td>Very important</td>\n",
       "      <td>Not important</td>\n",
       "      <td>Not important</td>\n",
       "      <td>Not important</td>\n",
       "      <td>Not important</td>\n",
       "      <td>Moderately important</td>\n",
       "      <td>Moderately important</td>\n",
       "      <td>Not important</td>\n",
       "      <td>Not important</td>\n",
       "      <td>2021-06-23 20:29:46 UTC</td>\n",
       "    </tr>\n",
       "    <tr>\n",
       "      <th>4</th>\n",
       "      <td>25–34</td>\n",
       "      <td>Male</td>\n",
       "      <td>University postgraduate degree program</td>\n",
       "      <td>United States</td>\n",
       "      <td>Employed full-time</td>\n",
       "      <td>NaN</td>\n",
       "      <td>Health Care and Social Assistance</td>\n",
       "      <td>NaN</td>\n",
       "      <td>1-2 years</td>\n",
       "      <td>No</td>\n",
       "      <td>...</td>\n",
       "      <td>NaN</td>\n",
       "      <td>NaN</td>\n",
       "      <td>NaN</td>\n",
       "      <td>NaN</td>\n",
       "      <td>NaN</td>\n",
       "      <td>NaN</td>\n",
       "      <td>NaN</td>\n",
       "      <td>NaN</td>\n",
       "      <td>NaN</td>\n",
       "      <td>2021-06-23 20:54:51 UTC</td>\n",
       "    </tr>\n",
       "  </tbody>\n",
       "</table>\n",
       "<p>5 rows × 40 columns</p>\n",
       "</div>"
      ],
      "text/plain": [
       "  1. How old are you? 2. What gender do you most strongly identify as?  \\\n",
       "0               25–34                                             Male   \n",
       "1               35–44                                             Male   \n",
       "2               25–34                                           Female   \n",
       "3               18–24                                           Female   \n",
       "4               25–34                                             Male   \n",
       "\n",
       "  3. What is the highest level of education you have completed?  \\\n",
       "0  University undergraduate degree program / degr...              \n",
       "1                                    Doctoral degree              \n",
       "2             University postgraduate degree program              \n",
       "3                          High school or equivalent              \n",
       "4             University postgraduate degree program              \n",
       "\n",
       "  4. Which country do you currently reside in?  \\\n",
       "0                                United States   \n",
       "1                                      Germany   \n",
       "2                                United States   \n",
       "3                               United Kingdom   \n",
       "4                                United States   \n",
       "\n",
       "  5. What was your employment status at the start of 2020?  \\\n",
       "0                            Self-employed part-time         \n",
       "1                            Self-employed full-time         \n",
       "2                                 Employed full-time         \n",
       "3                                 Employed full-time         \n",
       "4                                 Employed full-time         \n",
       "\n",
       "  5.a. If you selected Other, please specify:  \\\n",
       "0                                         NaN   \n",
       "1                                         NaN   \n",
       "2                                         NaN   \n",
       "3                                         NaN   \n",
       "4                                         NaN   \n",
       "\n",
       "  6. Please select your industry at the start of 2020, if applicable  \\\n",
       "0                Arts, Entertainment, and Recreation                   \n",
       "1           Information Services and Data Processing                   \n",
       "2                  Health Care and Social Assistance                   \n",
       "3                            Hotel and Food Services                   \n",
       "4                  Health Care and Social Assistance                   \n",
       "\n",
       "  6.a. If you selected Other, please specify:  \\\n",
       "0                                         NaN   \n",
       "1                                         NaN   \n",
       "2                                         NaN   \n",
       "3                                         NaN   \n",
       "4                                         NaN   \n",
       "\n",
       "  6.b. How long had you been in the above industry at the start of 2020?  \\\n",
       "0                                        10-19 years                       \n",
       "1                                   20 or more years                       \n",
       "2                                   Less than 1 year                       \n",
       "3                                          1-2 years                       \n",
       "4                                          1-2 years                       \n",
       "\n",
       "  7. Did you decide to change your career plans as a result of COVID-19?  ...  \\\n",
       "0                                                 No                      ...   \n",
       "1                                                 No                      ...   \n",
       "2                                                Yes                      ...   \n",
       "3                                                Yes                      ...   \n",
       "4                                                 No                      ...   \n",
       "\n",
       "  13.2. Government resources or programs 13.3. Vocational organizations  \\\n",
       "0                          Not important                  Not important   \n",
       "1                                    NaN                            NaN   \n",
       "2                              Important                  Not important   \n",
       "3                         Very important                  Not important   \n",
       "4                                    NaN                            NaN   \n",
       "\n",
       "   13.4. Newspapers           13.5. Books  \\\n",
       "0     Not important  Moderately important   \n",
       "1               NaN                   NaN   \n",
       "2     Not important         Not important   \n",
       "3     Not important         Not important   \n",
       "4               NaN                   NaN   \n",
       "\n",
       "  13.6. Social networks (ie. LinkedIn or Facebook) or forums  \\\n",
       "0                                 Slightly important           \n",
       "1                                                NaN           \n",
       "2                               Moderately important           \n",
       "3                                      Not important           \n",
       "4                                                NaN           \n",
       "\n",
       "  13.7. Blogs, online articles or informational websites  \\\n",
       "0                                 Slightly important       \n",
       "1                                                NaN       \n",
       "2                                      Not important       \n",
       "3                               Moderately important       \n",
       "4                                                NaN       \n",
       "\n",
       "           13.8. Family         13.9. Friends  \\\n",
       "0    Slightly important    Slightly important   \n",
       "1                   NaN                   NaN   \n",
       "2  Moderately important  Moderately important   \n",
       "3  Moderately important         Not important   \n",
       "4                   NaN                   NaN   \n",
       "\n",
       "  13.10. Therapists, support groups or other help resources  \\\n",
       "0                                          Important          \n",
       "1                                                NaN          \n",
       "2                                      Not important          \n",
       "3                                      Not important          \n",
       "4                                                NaN          \n",
       "\n",
       "            CompletionDate  \n",
       "0  2021-06-23 08:31:00 UTC  \n",
       "1  2021-06-23 16:59:36 UTC  \n",
       "2  2021-06-23 18:22:07 UTC  \n",
       "3  2021-06-23 20:29:46 UTC  \n",
       "4  2021-06-23 20:54:51 UTC  \n",
       "\n",
       "[5 rows x 40 columns]"
      ]
     },
     "execution_count": 1,
     "metadata": {},
     "output_type": "execute_result"
    }
   ],
   "source": [
    "# import the survey responses and show a preview\n",
    "\n",
    "import numpy as np\n",
    "import pandas as pd\n",
    "\n",
    "# library can be installed via the command 'pip install plot-likert'\n",
    "import plot_likert\n",
    "\n",
    "df = pd.read_csv('results-for-covid-working-2021-06-28-2230.csv')\n",
    "\n",
    "df.head()"
   ]
  },
  {
   "cell_type": "markdown",
   "id": "21ca50f0",
   "metadata": {},
   "source": [
    "<br>Since the original survey questions make for unwieldy column names, we will update them."
   ]
  },
  {
   "cell_type": "code",
   "execution_count": 2,
   "id": "9ef1d3ab",
   "metadata": {},
   "outputs": [],
   "source": [
    "# create a list of cleaner column names \n",
    "cols = ['age', 'gender', 'education', 'country', 'employment_precovid', 'other1', 'industry_precovid', \n",
    "        'other2', 'industrylength_precovid', 'careerchange', 'changes', 'other3', 'changefactors', \n",
    "        'income', 'challenge', 'culture', 'skillfit', 'valuesfit', 'scheduleflexibility', \n",
    "        'locationflexibility', 'badindustry', 'family1', 'injury', 'previousdesire', 'newindustry', \n",
    "        'other4', 'stepstaken', 'other5', 'resources', 'workconnections', 'government', 'vocationalorgs', \n",
    "        'newspapers', 'books', 'socialnetworks', 'websites', 'family2', 'friends', 'therapy', \n",
    "        'completed']\n",
    "\n",
    "# update the column names\n",
    "df.columns = cols"
   ]
  },
  {
   "cell_type": "markdown",
   "id": "cf1adee2",
   "metadata": {},
   "source": [
    "<br>Now we can begin to look at an overview of our data.\n",
    "<br>"
   ]
  },
  {
   "cell_type": "code",
   "execution_count": 3,
   "id": "13bab171",
   "metadata": {},
   "outputs": [
    {
     "name": "stdout",
     "output_type": "stream",
     "text": [
      "<class 'pandas.core.frame.DataFrame'>\n",
      "RangeIndex: 13 entries, 0 to 12\n",
      "Data columns (total 40 columns):\n",
      " #   Column                   Non-Null Count  Dtype  \n",
      "---  ------                   --------------  -----  \n",
      " 0   age                      13 non-null     object \n",
      " 1   gender                   13 non-null     object \n",
      " 2   education                13 non-null     object \n",
      " 3   country                  13 non-null     object \n",
      " 4   employment_precovid      13 non-null     object \n",
      " 5   other1                   1 non-null      object \n",
      " 6   industry_precovid        10 non-null     object \n",
      " 7   other2                   2 non-null      object \n",
      " 8   industrylength_precovid  11 non-null     object \n",
      " 9   careerchange             13 non-null     object \n",
      " 10  changes                  13 non-null     object \n",
      " 11  other3                   4 non-null      object \n",
      " 12  changefactors            0 non-null      float64\n",
      " 13  income                   8 non-null      object \n",
      " 14  challenge                8 non-null      object \n",
      " 15  culture                  8 non-null      object \n",
      " 16  skillfit                 8 non-null      object \n",
      " 17  valuesfit                8 non-null      object \n",
      " 18  scheduleflexibility      7 non-null      object \n",
      " 19  locationflexibility      7 non-null      object \n",
      " 20  badindustry              6 non-null      object \n",
      " 21  family1                  7 non-null      object \n",
      " 22  injury                   7 non-null      object \n",
      " 23  previousdesire           11 non-null     object \n",
      " 24  newindustry              12 non-null     object \n",
      " 25  other4                   1 non-null      object \n",
      " 26  stepstaken               13 non-null     object \n",
      " 27  other5                   1 non-null      object \n",
      " 28  resources                0 non-null      float64\n",
      " 29  workconnections          8 non-null      object \n",
      " 30  government               8 non-null      object \n",
      " 31  vocationalorgs           8 non-null      object \n",
      " 32  newspapers               8 non-null      object \n",
      " 33  books                    8 non-null      object \n",
      " 34  socialnetworks           8 non-null      object \n",
      " 35  websites                 8 non-null      object \n",
      " 36  family2                  8 non-null      object \n",
      " 37  friends                  8 non-null      object \n",
      " 38  therapy                  7 non-null      object \n",
      " 39  completed                13 non-null     object \n",
      "dtypes: float64(2), object(38)\n",
      "memory usage: 2.2+ KB\n"
     ]
    }
   ],
   "source": [
    "df.info()"
   ]
  },
  {
   "cell_type": "markdown",
   "id": "8d32d2f0",
   "metadata": {},
   "source": [
    "# Data Preprocessing"
   ]
  },
  {
   "cell_type": "markdown",
   "id": "c1018007",
   "metadata": {},
   "source": [
    "A number of issues are apparent from the above."
   ]
  },
  {
   "cell_type": "markdown",
   "id": "8e657827",
   "metadata": {},
   "source": [
    "### Other responses\n",
    "The Other responses will need to be coded so they can be integrated into the other responses for a given question. \n",
    "\n",
    "For example, two participants responded to a question about how they're changing their plans with Other but then gave the equivalent of \"Going back to school.\" In the survey design, this was not included as an option as it is a method of accomplishing a goal (i.e. changing industry) rather than an end in itself. (This question does have larger weaknesses which will be revisited later.)\n",
    "\n",
    "Another respondent indicated they were pursuing a change of companies in their field. However, that was not considered a change of career plans in this survey, as some movement between companies was assumed.\n",
    "<br>"
   ]
  },
  {
   "cell_type": "code",
   "execution_count": 4,
   "id": "7100d15a",
   "metadata": {},
   "outputs": [
    {
     "name": "stderr",
     "output_type": "stream",
     "text": [
      "/usr/local/lib/python3.7/dist-packages/pandas/core/indexing.py:671: SettingWithCopyWarning: \n",
      "A value is trying to be set on a copy of a slice from a DataFrame\n",
      "\n",
      "See the caveats in the documentation: https://pandas.pydata.org/pandas-docs/stable/user_guide/indexing.html#returning-a-view-versus-a-copy\n",
      "  self._setitem_with_indexer(indexer, value)\n"
     ]
    }
   ],
   "source": [
    "df['other3'].loc[df['other3'] == 'Going back to school'] = 'Pursuing additional training'\n",
    "df['other3'].loc[df['other3'] == 'Pursue post-grad at later date'] = 'Pursuing additional training'\n",
    "\n",
    "df['careerchange'].iloc[8] = 'No'\n",
    "df['other3'].loc[df['other3'] == 'Looking to change to a different company in the same field'] = np.nan\n",
    "df['other5'].loc[df['other5'] == 'Writing applications'] = np.nan\n",
    "\n",
    "df['changes'].iloc[12] = df['changes'].iloc[12].split(',Other')[0]\n",
    "df['other3'].loc[df['other3'] == 'Becoming an Author, doing video but not editing anymore and hiring that out'] = np.nan\n",
    "df['other4'].loc[df['other4'] == 'Author selling books mostly on Amazon'] = 'Publishing'"
   ]
  },
  {
   "cell_type": "markdown",
   "id": "5ed28d35",
   "metadata": {},
   "source": [
    "<br>Finally, the updated Other responses will be copied into the main question response columns. In other words, the response columns will no longer show \"Other\" as one of the responses but instead a meaningful, full list of responses.\n",
    "<br>"
   ]
  },
  {
   "cell_type": "code",
   "execution_count": 5,
   "id": "99cbcd90",
   "metadata": {},
   "outputs": [],
   "source": [
    "# find columns where Other response is given and replace it with the respondent's input\n",
    "\n",
    "# list of columns with Other responses\n",
    "others = ['employment_precovid', 'industry_precovid', 'changes', 'newindustry', 'stepstaken']\n",
    "\n",
    "for col in range(len(others)):\n",
    "    other_mask = df[others[col]] == 'Other'\n",
    "    other_col = 'other' + str(col+1)\n",
    "    df[others[col]] = np.where(other_mask, df[other_col], df[others[col]])\n",
    "    \n",
    "    # delete the 'other' column now that its data has been extracted\n",
    "    del df[other_col]  "
   ]
  },
  {
   "cell_type": "markdown",
   "id": "6bbca065",
   "metadata": {},
   "source": [
    "### Tidying data\n",
    "\n",
    "In general our CSV data as it was received from the survey platform follows the guidelines of tidy data. However, two questions were multiple choice, and the survey platform recorded them as comma-separated items within a cell. It is not tidy to have multiple different items within a single column. These will need to be split out. "
   ]
  },
  {
   "cell_type": "code",
   "execution_count": 6,
   "id": "e5569196",
   "metadata": {},
   "outputs": [],
   "source": [
    "# expand the changes multiple choice options into additional columns\n",
    "new_cols = df['changes'].str.get_dummies(sep=',')\n",
    "df = pd.concat([df, new_cols], axis=1)\n",
    "\n",
    "# expand the stepstaken multiple choice options into additional columns\n",
    "new_cols2 = df['stepstaken'].str.get_dummies(sep=',')\n",
    "df = pd.concat([df, new_cols2], axis=1)\n",
    "\n",
    "# drop the old changes column\n",
    "df = df.drop(columns=['changes', 'stepstaken'])   "
   ]
  },
  {
   "cell_type": "markdown",
   "id": "72b3b270",
   "metadata": {},
   "source": [
    "<br>\n",
    "A further error was made in the survey. The multiple choice option \"Pursuing self-employment\" was asked in both of the above questions. Luckily, it did not pollute the results, since the same person selected it both times. The second, duplicated instance of this question will be removed."
   ]
  },
  {
   "cell_type": "code",
   "execution_count": 7,
   "id": "5e593079",
   "metadata": {},
   "outputs": [],
   "source": [
    "df = df.loc[:, ~df.columns.duplicated()]"
   ]
  },
  {
   "cell_type": "markdown",
   "id": "dcf84577",
   "metadata": {},
   "source": [
    "### Empty data\n",
    "Two columns are completely empty, *changefactors* and *resources*. This is because they presented the multiple choice options coming afterwards. They will be removed.<br>"
   ]
  },
  {
   "cell_type": "code",
   "execution_count": 8,
   "id": "a161dda0",
   "metadata": {},
   "outputs": [],
   "source": [
    "df = df.drop(columns=['changefactors', 'resources'])"
   ]
  },
  {
   "cell_type": "markdown",
   "id": "529c29d6",
   "metadata": {},
   "source": [
    "<br>\n",
    "For plotting purposes, a few additional columns need to be cleaned up. A few questions asked for responses only relevant to people changing careers. To make this clear to respondents, one of the options given was \"Not changing careers.\" These responses should now be removed."
   ]
  },
  {
   "cell_type": "code",
   "execution_count": 9,
   "id": "3016ac7a",
   "metadata": {},
   "outputs": [
    {
     "name": "stderr",
     "output_type": "stream",
     "text": [
      "/usr/local/lib/python3.7/dist-packages/pandas/core/indexing.py:671: SettingWithCopyWarning: \n",
      "A value is trying to be set on a copy of a slice from a DataFrame\n",
      "\n",
      "See the caveats in the documentation: https://pandas.pydata.org/pandas-docs/stable/user_guide/indexing.html#returning-a-view-versus-a-copy\n",
      "  self._setitem_with_indexer(indexer, value)\n"
     ]
    }
   ],
   "source": [
    "df['previousdesire'].loc[df['previousdesire'] == 'Not making a change'] = np.nan\n",
    "\n",
    "df['newindustry'].loc[df['newindustry'] == 'I am not changing industry'] = np.nan"
   ]
  },
  {
   "cell_type": "markdown",
   "id": "58d8598d",
   "metadata": {},
   "source": [
    "<br>This survey was designed so that all responses would be categorical variables. This could be improved in the future. For one, having only categorical data restricts the type of visualizations available. (I apologize to you in advance as I will not be able to produce a very diverse set of visualizations!) Re-grouping data such as ages would have been easy using the pd.cut() function.\n",
    "\n",
    "Nonetheless, since this was the data type used, all normal columns will be set to the categorical dtype. The columns concatenated at the end from the multiple choice data yielded 0/1 data and will be set to int's."
   ]
  },
  {
   "cell_type": "code",
   "execution_count": 10,
   "id": "5361fb04",
   "metadata": {},
   "outputs": [
    {
     "name": "stdout",
     "output_type": "stream",
     "text": [
      "<class 'pandas.core.frame.DataFrame'>\n",
      "RangeIndex: 13 entries, 0 to 12\n",
      "Data columns (total 40 columns):\n",
      " #   Column                                     Non-Null Count  Dtype              \n",
      "---  ------                                     --------------  -----              \n",
      " 0   age                                        13 non-null     category           \n",
      " 1   gender                                     13 non-null     category           \n",
      " 2   education                                  13 non-null     category           \n",
      " 3   country                                    13 non-null     category           \n",
      " 4   employment_precovid                        13 non-null     category           \n",
      " 5   industry_precovid                          10 non-null     category           \n",
      " 6   industrylength_precovid                    11 non-null     category           \n",
      " 7   careerchange                               13 non-null     category           \n",
      " 8   income                                     8 non-null      category           \n",
      " 9   challenge                                  8 non-null      category           \n",
      " 10  culture                                    8 non-null      category           \n",
      " 11  skillfit                                   8 non-null      category           \n",
      " 12  valuesfit                                  8 non-null      category           \n",
      " 13  scheduleflexibility                        7 non-null      category           \n",
      " 14  locationflexibility                        7 non-null      category           \n",
      " 15  badindustry                                6 non-null      category           \n",
      " 16  family1                                    7 non-null      category           \n",
      " 17  injury                                     7 non-null      category           \n",
      " 18  previousdesire                             8 non-null      category           \n",
      " 19  newindustry                                3 non-null      category           \n",
      " 20  workconnections                            8 non-null      category           \n",
      " 21  government                                 8 non-null      category           \n",
      " 22  vocationalorgs                             8 non-null      category           \n",
      " 23  newspapers                                 8 non-null      category           \n",
      " 24  books                                      8 non-null      category           \n",
      " 25  socialnetworks                             8 non-null      category           \n",
      " 26  websites                                   8 non-null      category           \n",
      " 27  family2                                    8 non-null      category           \n",
      " 28  friends                                    8 non-null      category           \n",
      " 29  therapy                                    7 non-null      category           \n",
      " 30  completed                                  13 non-null     datetime64[ns, UTC]\n",
      " 31  Changing industry                          13 non-null     int32              \n",
      " 32  Not changing career plans                  13 non-null     int32              \n",
      " 33  Pursuing additional training               13 non-null     int32              \n",
      " 34  Pursuing self-employment                   13 non-null     int32              \n",
      " 35  Reducing jobs or income sources            13 non-null     int32              \n",
      " 36  Taking on extra jobs or incomes sources    13 non-null     int32              \n",
      " 37  Building up portfolio or creating content  13 non-null     int32              \n",
      " 38  Enrolling in school program                13 non-null     int32              \n",
      " 39  Pursuing professional certification(s)     13 non-null     int32              \n",
      "dtypes: category(30), datetime64[ns, UTC](1), int32(9)\n",
      "memory usage: 3.7 KB\n"
     ]
    }
   ],
   "source": [
    "for col in range(30):\n",
    "    df[df.columns[col]] = df[df.columns[col]].astype('category')\n",
    "\n",
    "df['completed'] = pd.to_datetime(df['completed'])    \n",
    "\n",
    "for col in range(31,40):\n",
    "    df[df.columns[col]] = df[df.columns[col]].astype('int')\n",
    "\n",
    "df.info()"
   ]
  },
  {
   "cell_type": "markdown",
   "id": "45dd744e",
   "metadata": {},
   "source": [
    "# Overview of Respondents\n",
    "\n",
    "Next let's look at the people who filled out the survey.\n"
   ]
  },
  {
   "cell_type": "code",
   "execution_count": 11,
   "id": "51752472",
   "metadata": {},
   "outputs": [
    {
     "data": {
      "text/html": [
       "<div>\n",
       "<style scoped>\n",
       "    .dataframe tbody tr th:only-of-type {\n",
       "        vertical-align: middle;\n",
       "    }\n",
       "\n",
       "    .dataframe tbody tr th {\n",
       "        vertical-align: top;\n",
       "    }\n",
       "\n",
       "    .dataframe thead th {\n",
       "        text-align: right;\n",
       "    }\n",
       "</style>\n",
       "<table border=\"1\" class=\"dataframe\">\n",
       "  <thead>\n",
       "    <tr style=\"text-align: right;\">\n",
       "      <th></th>\n",
       "      <th>age</th>\n",
       "      <th>gender</th>\n",
       "      <th>education</th>\n",
       "      <th>country</th>\n",
       "      <th>employment_precovid</th>\n",
       "      <th>industry_precovid</th>\n",
       "      <th>industrylength_precovid</th>\n",
       "    </tr>\n",
       "  </thead>\n",
       "  <tbody>\n",
       "    <tr>\n",
       "      <th>count</th>\n",
       "      <td>13</td>\n",
       "      <td>13</td>\n",
       "      <td>13</td>\n",
       "      <td>13</td>\n",
       "      <td>13</td>\n",
       "      <td>10</td>\n",
       "      <td>11</td>\n",
       "    </tr>\n",
       "    <tr>\n",
       "      <th>unique</th>\n",
       "      <td>4</td>\n",
       "      <td>3</td>\n",
       "      <td>4</td>\n",
       "      <td>4</td>\n",
       "      <td>5</td>\n",
       "      <td>9</td>\n",
       "      <td>6</td>\n",
       "    </tr>\n",
       "    <tr>\n",
       "      <th>top</th>\n",
       "      <td>25–34</td>\n",
       "      <td>Female</td>\n",
       "      <td>University undergraduate degree program / degr...</td>\n",
       "      <td>United States</td>\n",
       "      <td>Employed full-time</td>\n",
       "      <td>Health Care and Social Assistance</td>\n",
       "      <td>20 or more years</td>\n",
       "    </tr>\n",
       "    <tr>\n",
       "      <th>freq</th>\n",
       "      <td>5</td>\n",
       "      <td>7</td>\n",
       "      <td>4</td>\n",
       "      <td>8</td>\n",
       "      <td>6</td>\n",
       "      <td>2</td>\n",
       "      <td>3</td>\n",
       "    </tr>\n",
       "  </tbody>\n",
       "</table>\n",
       "</div>"
      ],
      "text/plain": [
       "          age  gender                                          education  \\\n",
       "count      13      13                                                 13   \n",
       "unique      4       3                                                  4   \n",
       "top     25–34  Female  University undergraduate degree program / degr...   \n",
       "freq        5       7                                                  4   \n",
       "\n",
       "              country employment_precovid                  industry_precovid  \\\n",
       "count              13                  13                                 10   \n",
       "unique              4                   5                                  9   \n",
       "top     United States  Employed full-time  Health Care and Social Assistance   \n",
       "freq                8                   6                                  2   \n",
       "\n",
       "       industrylength_precovid  \n",
       "count                       11  \n",
       "unique                       6  \n",
       "top           20 or more years  \n",
       "freq                         3  "
      ]
     },
     "execution_count": 11,
     "metadata": {},
     "output_type": "execute_result"
    }
   ],
   "source": [
    "df[['age', 'gender', 'education', 'country', 'employment_precovid', 'industry_precovid', 'industrylength_precovid']].describe()"
   ]
  },
  {
   "cell_type": "code",
   "execution_count": 12,
   "id": "b39f4d4a",
   "metadata": {},
   "outputs": [
    {
     "data": {
      "image/png": "[encoded data removed]",
      "text/plain": [
       "<Figure size 432x288 with 1 Axes>"
      ]
     },
     "metadata": {
      "needs_background": "light"
     },
     "output_type": "display_data"
    }
   ],
   "source": [
    "import matplotlib.pyplot as plt\n",
    "import seaborn as sns\n",
    "\n",
    "ax = sns.countplot(x = 'age', data = df, palette=\"muted\")\n",
    "ax.set_title('Age')\n",
    "ax.set_xlabel('')\n",
    "ax.set_ylabel('count'); # adding the semi-colon suppresses the text output above the plot"
   ]
  },
  {
   "cell_type": "code",
   "execution_count": 13,
   "id": "6c7ce811",
   "metadata": {},
   "outputs": [
    {
     "data": {
      "image/png": "[encoded data removed]",
      "text/plain": [
       "<Figure size 432x288 with 1 Axes>"
      ]
     },
     "metadata": {
      "needs_background": "light"
     },
     "output_type": "display_data"
    }
   ],
   "source": [
    "ax = sns.countplot(y = 'gender', data = df, palette=\"muted\")\n",
    "\n",
    "ax.set_title('Gender')\n",
    "ax.set_xlabel('count')\n",
    "ax.set_ylabel('');"
   ]
  },
  {
   "cell_type": "code",
   "execution_count": 14,
   "id": "80a7dbc2",
   "metadata": {},
   "outputs": [
    {
     "data": {
      "image/png": "[encoded data removed]",
      "text/plain": [
       "<Figure size 432x288 with 1 Axes>"
      ]
     },
     "metadata": {
      "needs_background": "light"
     },
     "output_type": "display_data"
    }
   ],
   "source": [
    "ed_order = ['High school or equivalent', 'University undergraduate degree program / degree apprenticeship', 'University postgraduate degree program', 'Doctoral degree' ]\n",
    "ed_labels = ['High school', 'Undergraduate', 'Graduate', 'Doctoral']\n",
    "\n",
    "ax = sns.countplot(y='education', data=df, order=ed_order, palette=\"muted\")\n",
    "ax.set_title('Education level completed')\n",
    "ax.set_xticks(np.arange(5))\n",
    "ax.set_yticks(np.arange(4))\n",
    "ax.set_yticklabels(ed_labels)\n",
    "ax.set_ylabel('');"
   ]
  },
  {
   "cell_type": "code",
   "execution_count": 15,
   "id": "87b2cb8e",
   "metadata": {},
   "outputs": [
    {
     "data": {
      "image/png": "[encoded data removed]",
      "text/plain": [
       "<Figure size 432x288 with 1 Axes>"
      ]
     },
     "metadata": {
      "needs_background": "light"
     },
     "output_type": "display_data"
    }
   ],
   "source": [
    "ax = sns.countplot(y='country', data=df, palette=\"muted\")\n",
    "ax.set_title('Country of residence')\n",
    "ax.set_ylabel('');"
   ]
  },
  {
   "cell_type": "code",
   "execution_count": 16,
   "id": "96fe71d3",
   "metadata": {},
   "outputs": [
    {
     "data": {
      "image/png": "[encoded data removed]",
      "text/plain": [
       "<Figure size 432x288 with 1 Axes>"
      ]
     },
     "metadata": {
      "needs_background": "light"
     },
     "output_type": "display_data"
    }
   ],
   "source": [
    "ax = sns.countplot(y='industry_precovid', data=df, palette=\"muted\")\n",
    "ax.set_title('Industry at the start of COVID-19')\n",
    "ax.set_xticks(np.arange(3))\n",
    "ax.set_ylabel('');"
   ]
  },
  {
   "cell_type": "code",
   "execution_count": 17,
   "id": "b7bcc69d",
   "metadata": {},
   "outputs": [
    {
     "data": {
      "image/png": "[encoded data removed]",
      "text/plain": [
       "<Figure size 432x288 with 1 Axes>"
      ]
     },
     "metadata": {
      "needs_background": "light"
     },
     "output_type": "display_data"
    }
   ],
   "source": [
    "indlen_order = ['Less than 1 year', '1-2 years', '3-4 years', '5-9 years', '10-19 years', '20 or more years' ]\n",
    "indlen_labels = ['< 1', '1-2', '3-4', '5-9', '10-19', '> 20']\n",
    "\n",
    "ax = sns.countplot(x='industrylength_precovid', data=df, order=indlen_order, palette=\"muted\")\n",
    "ax.set_title('Industry length at start of COVID-19')\n",
    "ax.set_xticks(np.arange(6))\n",
    "ax.set_xticklabels(indlen_labels)\n",
    "ax.set_xlabel('years')\n",
    "ax.set_yticks(np.arange(4));"
   ]
  },
  {
   "cell_type": "code",
   "execution_count": 18,
   "id": "e8674b68",
   "metadata": {},
   "outputs": [
    {
     "data": {
      "image/png": "[encoded data removed]",
      "text/plain": [
       "<Figure size 432x288 with 1 Axes>"
      ]
     },
     "metadata": {
      "needs_background": "light"
     },
     "output_type": "display_data"
    }
   ],
   "source": [
    "ax = sns.countplot(x='age', hue='gender', data=df, palette=\"muted\")\n",
    "\n",
    "ax.set_title('Age vs gender')\n",
    "ax.set_yticks(np.arange(4))\n",
    "plt.legend(loc='upper right');"
   ]
  },
  {
   "cell_type": "markdown",
   "id": "bc36716e",
   "metadata": {},
   "source": [
    "The above table and charts show some good news in our sample: the group largely reflects the population that was targeted. The top brackets were ages 25-34, residents of the United States and undergraduate education. This shows the survey largely fulfilled its goal of reaching people similar to me. In age, country of residence and education level, the respondents fall into the same category as myself. The industry and length of time in that industry as of the start of 2020 varied fairly widely. As mentioned above, it was an oversight not to ask for income level, however, to better understand if this was a factor in people's career decision making during COVID-19.\n",
    "\n",
    "We can also see that gender and age are not independent variables in this sample. Younger people are more likely to be female, whereas the male group skewed older."
   ]
  },
  {
   "cell_type": "markdown",
   "id": "dcff56ba",
   "metadata": {},
   "source": [
    "# Analysis of Research Questions\n",
    "\n",
    "## 1a: Are people changing their career plans as a result of COVID-19?\n",
    "The overall results show 6 people changing plans and 7 not, a fairly even split."
   ]
  },
  {
   "cell_type": "code",
   "execution_count": 19,
   "id": "1a592918",
   "metadata": {},
   "outputs": [
    {
     "data": {
      "text/plain": [
       "No     7\n",
       "Yes    6\n",
       "Name: careerchange, dtype: int64"
      ]
     },
     "execution_count": 19,
     "metadata": {},
     "output_type": "execute_result"
    }
   ],
   "source": [
    "df['careerchange'].value_counts()"
   ]
  },
  {
   "cell_type": "markdown",
   "id": "76988f82",
   "metadata": {},
   "source": [
    "### Demographic breakdowns"
   ]
  },
  {
   "cell_type": "code",
   "execution_count": 20,
   "id": "63a85123",
   "metadata": {},
   "outputs": [
    {
     "data": {
      "text/html": [
       "<div>\n",
       "<style scoped>\n",
       "    .dataframe tbody tr th:only-of-type {\n",
       "        vertical-align: middle;\n",
       "    }\n",
       "\n",
       "    .dataframe tbody tr th {\n",
       "        vertical-align: top;\n",
       "    }\n",
       "\n",
       "    .dataframe thead th {\n",
       "        text-align: right;\n",
       "    }\n",
       "</style>\n",
       "<table border=\"1\" class=\"dataframe\">\n",
       "  <thead>\n",
       "    <tr style=\"text-align: right;\">\n",
       "      <th>careerchange</th>\n",
       "      <th>No</th>\n",
       "      <th>Yes</th>\n",
       "    </tr>\n",
       "    <tr>\n",
       "      <th>age</th>\n",
       "      <th></th>\n",
       "      <th></th>\n",
       "    </tr>\n",
       "  </thead>\n",
       "  <tbody>\n",
       "    <tr>\n",
       "      <th>18–24</th>\n",
       "      <td>1</td>\n",
       "      <td>3</td>\n",
       "    </tr>\n",
       "    <tr>\n",
       "      <th>25–34</th>\n",
       "      <td>4</td>\n",
       "      <td>1</td>\n",
       "    </tr>\n",
       "    <tr>\n",
       "      <th>35–44</th>\n",
       "      <td>2</td>\n",
       "      <td>1</td>\n",
       "    </tr>\n",
       "    <tr>\n",
       "      <th>45–54</th>\n",
       "      <td>0</td>\n",
       "      <td>1</td>\n",
       "    </tr>\n",
       "  </tbody>\n",
       "</table>\n",
       "</div>"
      ],
      "text/plain": [
       "careerchange  No  Yes\n",
       "age                  \n",
       "18–24          1    3\n",
       "25–34          4    1\n",
       "35–44          2    1\n",
       "45–54          0    1"
      ]
     },
     "execution_count": 20,
     "metadata": {},
     "output_type": "execute_result"
    }
   ],
   "source": [
    "pd.crosstab(df['age'], df['careerchange'])"
   ]
  },
  {
   "cell_type": "markdown",
   "id": "d1fc41fd",
   "metadata": {},
   "source": [
    "If we remove the 18-24 age group, however, that changes to 3 changing plans and 6 not, a 2-to-1 split.\n",
    "\n",
    "This confirms the notion that asking people in the 18-24 age group is potentially less meaningful than the older groups, given the context of this research. To whit, the 18-24 group showed the same number of yes's as the other 3 groups combined!"
   ]
  },
  {
   "cell_type": "code",
   "execution_count": 21,
   "id": "8bee84ad",
   "metadata": {},
   "outputs": [
    {
     "data": {
      "image/png": "[encoded data removed]",
      "text/plain": [
       "<Figure size 432x288 with 1 Axes>"
      ]
     },
     "metadata": {
      "needs_background": "light"
     },
     "output_type": "display_data"
    }
   ],
   "source": [
    "ax = sns.countplot(x='age', hue='careerchange', data=df)\n",
    "\n",
    "ax.set_title('Career change plans by Age')\n",
    "ax.set_xlabel('')\n",
    "ax.set_xticklabels(['18-24', '25-34', '35-44', '45-54'])\n",
    "ax.set_yticks(np.arange(5))\n",
    "plt.legend(loc='upper right');"
   ]
  },
  {
   "cell_type": "markdown",
   "id": "50d6116c",
   "metadata": {},
   "source": [
    "This bar chart shows an interesting pattern. We might say there are 3 general groups. 18-24 year olds were the most likely to plan a career change after COVID-19, with 3-to-1 saying they changed plans. Generally speaking, 35-54 year olds were the next most likely, with an even 50-50 split. Finally, the 25-34 year old group showed very low likelihood to change careers after COVID-19, being 4-to-1 against.\n",
    "\n",
    "Neither gender nor country showed correlations to the career change decision, being fairly evenly split. One might expect a correlation between education level and career sensitivity to events like COVID-19. Nonetheless, this survey did not bear that out."
   ]
  },
  {
   "cell_type": "code",
   "execution_count": 22,
   "id": "ad59863f",
   "metadata": {},
   "outputs": [
    {
     "data": {
      "image/png": "[encoded data removed]",
      "text/plain": [
       "<Figure size 432x288 with 1 Axes>"
      ]
     },
     "metadata": {
      "needs_background": "light"
     },
     "output_type": "display_data"
    }
   ],
   "source": [
    "ax = sns.countplot(y='education', hue='careerchange', data=df, order=ed_order)\n",
    "\n",
    "ax.set_title('Career change plans by Education')\n",
    "ax.set_xticks(np.arange(3))\n",
    "ax.set_yticklabels(ed_labels)\n",
    "ax.set_ylabel('');"
   ]
  },
  {
   "cell_type": "code",
   "execution_count": 23,
   "id": "1263e3e0",
   "metadata": {},
   "outputs": [
    {
     "data": {
      "image/png": "[encoded data removed]",
      "text/plain": [
       "<Figure size 432x288 with 1 Axes>"
      ]
     },
     "metadata": {
      "needs_background": "light"
     },
     "output_type": "display_data"
    }
   ],
   "source": [
    "ax = sns.countplot(x='industrylength_precovid', hue='careerchange', data=df, order=indlen_order)\n",
    "\n",
    "ax.set_title('Career Change Plans by Years in Industry')\n",
    "ax.set_xticklabels(indlen_labels)\n",
    "ax.set_xlabel('')\n",
    "ax.set_yticks(np.arange(4))\n",
    "ax.set_ylabel('count');"
   ]
  },
  {
   "cell_type": "markdown",
   "id": "c4cea846",
   "metadata": {},
   "source": [
    "<br>\n",
    "Once again a bit of a U-shaped relationship can be seen between variables. About as manhy people in the 0-10 year industry category changed career plans as people who were in the field 20 or more, with no one in the 10-20 range changing careers."
   ]
  },
  {
   "cell_type": "markdown",
   "id": "9c99de1d",
   "metadata": {},
   "source": [
    "## 1b. What changes are they making?\n",
    "\n"
   ]
  },
  {
   "cell_type": "code",
   "execution_count": 24,
   "id": "0fbeafb4",
   "metadata": {},
   "outputs": [
    {
     "data": {
      "image/png": "[encoded data removed]",
      "text/plain": [
       "<Figure size 432x288 with 1 Axes>"
      ]
     },
     "metadata": {
      "needs_background": "light"
     },
     "output_type": "display_data"
    }
   ],
   "source": [
    "# create ordered list of the columns to plot\n",
    "cols1 = ['Pursuing self-employment', 'Changing industry', 'Pursuing additional training',\n",
    "         'Reducing jobs or income sources', 'Taking on extra jobs or incomes sources']\n",
    "\n",
    "ax = df[cols1].sum().plot.bar()\n",
    "ax.set_title('Career Changes Being Made')\n",
    "ax.set_ylabel('count')\n",
    "ax.set_yticks(np.arange(4))\n",
    "plt.xticks(rotation=45, ha='right');"
   ]
  },
  {
   "cell_type": "markdown",
   "id": "ba4c92f7",
   "metadata": {},
   "source": [
    "Again, the results largely match common sense. Coming out of COVID-19, the most respondents making a change report efforts to make more money.\n",
    "\n",
    "The industry change could be interesting to observe, however, given only 3 responses, it is not highlighted here because we could not draw conclusions from it."
   ]
  },
  {
   "cell_type": "markdown",
   "id": "b37bddc5",
   "metadata": {},
   "source": [
    "## Part 2: Why are people changing career plans?\n",
    "\n",
    "\n"
   ]
  },
  {
   "cell_type": "code",
   "execution_count": 25,
   "id": "de1960fe",
   "metadata": {},
   "outputs": [
    {
     "data": {
      "image/png": "[encoded data removed]",
      "text/plain": [
       "<Figure size 432x288 with 1 Axes>"
      ]
     },
     "metadata": {
      "needs_background": "light"
     },
     "output_type": "display_data"
    }
   ],
   "source": [
    "# create ordered list of the columns to plot\n",
    "cols2 = ['income', 'challenge', 'culture', 'skillfit', 'valuesfit', 'scheduleflexibility', \n",
    "         'locationflexibility', 'badindustry', 'family1', 'injury']\n",
    "\n",
    "df_changefactors = df[cols2]\n",
    "\n",
    "scales = ['Not important', 'Slightly important', 'Moderately important', 'Important', 'Very important']\n",
    "\n",
    "# utilize plot-likert to easily display likert data as horizontal stacked bar charts\n",
    "ax = plot_likert.plot_likert(df_changefactors, scales, plot_percentage=False)\n",
    "ax.set_title('Career Change Decision Factors');"
   ]
  },
  {
   "cell_type": "markdown",
   "id": "cacc167c",
   "metadata": {},
   "source": [
    "The above shows an interesting contrast to the item before it. Whereas the most popular change for people to cite was \"Taking on extra jobs or income sources\" here we don't see income as the most important decision factor. In fact, fully 4 items received higher importance scores: \n",
    "\n",
    "1. Culture fit\n",
    "2. Values fit\n",
    "3. Schedule flexibility\n",
    "4. Location flexibility\n",
    "\n",
    "If this question were of higher importance, say in a corporate survey to help drive business decisions, this discrepancy might justify further research. For example, follow-up interviews might be conducted with subjects who indicated the relevant answers above, to gain more qualitative data on why they chose these responses.\n",
    "\n",
    "We can, however, take a peak at the responses of the 3 people who indicated they are \"Taking on extra jobs or income sources.\" See the plot below. Surprisingly, the spread looks very similar. Apparently their working more is not so much in service of more income as it is of what might collectively be called higher work satisfaction."
   ]
  },
  {
   "cell_type": "code",
   "execution_count": 27,
   "id": "26ba92c0",
   "metadata": {},
   "outputs": [
    {
     "data": {
      "image/png": "[encoded data removed]",
      "text/plain": [
       "<Figure size 432x288 with 1 Axes>"
      ]
     },
     "metadata": {
      "needs_background": "light"
     },
     "output_type": "display_data"
    }
   ],
   "source": [
    "df_changefactors2 = df[cols2].loc[df['Taking on extra jobs or incomes sources'] == 1]\n",
    "\n",
    "# utilize plot-likert to easily display likert data as horizontal stacked bar charts\n",
    "ax = plot_likert.plot_likert(df_changefactors2, scales, plot_percentage=False)\n",
    "ax.set_title('Career Change Decision Factors');"
   ]
  },
  {
   "cell_type": "markdown",
   "id": "01f97bc0",
   "metadata": {},
   "source": [
    "<br>\n",
    "Finally, respondents indicated nearly 2-to-1 that making a career change is something that wanted to do prior to COVID-19. This would be another question worthy of folllow-up to gain more understanding on how it helped shape respondents' decisions."
   ]
  },
  {
   "cell_type": "code",
   "execution_count": 28,
   "id": "e577ff5f",
   "metadata": {},
   "outputs": [
    {
     "data": {
      "text/plain": [
       "Yes    5\n",
       "No     3\n",
       "Name: previousdesire, dtype: int64"
      ]
     },
     "execution_count": 28,
     "metadata": {},
     "output_type": "execute_result"
    }
   ],
   "source": [
    "df['previousdesire'].value_counts()"
   ]
  },
  {
   "cell_type": "markdown",
   "id": "7b0ff998",
   "metadata": {},
   "source": [
    "## Part 3: What steps are people taking to realize the change?"
   ]
  },
  {
   "cell_type": "code",
   "execution_count": 30,
   "id": "76fbb10b",
   "metadata": {},
   "outputs": [
    {
     "data": {
      "image/png": "[encoded data removed]",
      "text/plain": [
       "<Figure size 432x288 with 1 Axes>"
      ]
     },
     "metadata": {
      "needs_background": "light"
     },
     "output_type": "display_data"
    }
   ],
   "source": [
    "# create ordered list of the columns to plot\n",
    "cols3 = ['Building up portfolio or creating content', 'Enrolling in school program', 'Pursuing professional certification(s)']\n",
    "\n",
    "ax = df[cols3].sum().plot.bar()\n",
    "ax.set_title('Steps Being Taken')\n",
    "ax.set_ylabel('count')\n",
    "ax.set_yticks(np.arange(4))\n",
    "plt.xticks(rotation=45, ha='right');"
   ]
  },
  {
   "cell_type": "code",
   "execution_count": 31,
   "id": "b3cfc4e8",
   "metadata": {},
   "outputs": [
    {
     "data": {
      "image/png": "[encoded data removed]",
      "text/plain": [
       "<Figure size 432x288 with 1 Axes>"
      ]
     },
     "metadata": {
      "needs_background": "light"
     },
     "output_type": "display_data"
    }
   ],
   "source": [
    "# create ordered list of the columns to plot\n",
    "cols4 = ['workconnections', 'government', 'vocationalorgs', 'newspapers', 'books', 'socialnetworks', \n",
    "         'websites', 'family2', 'friends', 'therapy']\n",
    "\n",
    "df_resources = df[cols4]\n",
    "\n",
    "# utilize plot-likert to easily display likert data as horizontal stacked bar charts\n",
    "ax = plot_likert.plot_likert(df_resources, scales, plot_percentage=False);\n",
    "ax.set_title('Career Change Resources Utilized');"
   ]
  },
  {
   "cell_type": "markdown",
   "id": "9bdd426e",
   "metadata": {},
   "source": [
    "<br>\n",
    "In terms of concrete steps being taken, this category was ultimately too lean. After taking out the duplicate self-employment question, there were only 3 choices for respondents to choose from. To improve on this survey, more options should have been created. Either that or combine the above 2 questions into one, since they were very similar.\n",
    "<br><br>\n",
    "The second chart shows an interesting result in the high responses under the government support category. Does this indicate unemployment or similar social support systems? After that came web resources and social networks, and then, interestingly, family support. Again follow-up interviews, or adding an additional question here, would shed further light on what participants were referring to."
   ]
  },
  {
   "cell_type": "markdown",
   "id": "3c51a40c",
   "metadata": {},
   "source": [
    "<a id='conclusions'></a>\n",
    "## Conclusions\n",
    "\n",
    "The survey somewhat succeeded in reaching demographics similar to myself. The top age group was 25-34 year olds and the top country of residence was the United States. Education level, industry and length of time in industry were fairly distributed. The group was slightly more female than male, with the younger respondents more likely to be female.\n",
    "\n",
    "The survey showed some interesting and unexpected results, along with less surprising results: \n",
    "\n",
    "1. Roughly half of the participants said they decided to change their career plans as a result of COVID-19. \n",
    "\n",
    "2. Roughly 3 groups can be seen when comparing age to whether someone changed career plans. 18-24 year olds were the most likely to plan a career change after COVID-19. 35-54 year olds were the next most likely, with an even 50-50 split. The 25-34 year old group showed the opposite pattern - a very low rate of changing career plans after COVID-19.\n",
    "\n",
    "3. Of those making a career change, nearly twice as many respondents indicated a previous desire to change careers as not. This suggests that career satisfaction leading up to COVID-19 would negatively correlate with planning a change after COVID-19, as one would expect.\n",
    "\n",
    "4. The most common career change being made was taking on extra jobs or sources of income. A change in industry was uncommon among those changing career plans.\n",
    "\n",
    "5. That notwithstanding, culture fit, values fit, schedule flexibility and location flexibility were all given higher importance than income as factors in the decision to change careers.\n",
    "\n",
    "6. The top resources utilized in the career change were governmental and online resources. This suggests a large proportion of the sample group may have received unemployment assistance. Given the context of this project, this would have been a good question to include. \n",
    "\n",
    "#### Survey issues and suggestions for improvement\n",
    "Several items for improvement were mentioned above, such as the insufficient sampling, the lack of an income question to determine if the sample met the goal of middle-income individuals, and the inclusion of 18-24 year olds, though the only of these which was easily remedied afterwards. Because there was a clear split in questions geared at those changing career plans vs. those not, a future improvement would be to cluster those questions together on their own page(s), with the explicit instruction that thoes not changing career plans not continue on to those questions.\n",
    "\n",
    "The issue of clarity in the survey questions deserves more exploration. The root issue of the unclear survey questions most likely goes back to the research questions themselves. The scope was too broad. While the goal of the survey was to better understand participants changes in career plans and the factors surround them, the questions asked both about a change in career plans as well as a change in employment. This may have caused some cross-confusion. Narrowing the scope of the research could have reduced confusion. \n",
    "\n",
    "In a similar vein, 3 research questions were a combination of descriptive and explanatory questions. My opinion now is that I should have focused on one or the other. Either explore the what and how *or* the why - not both. (The question of why is sufficiently complicated on its own) If the explanatory route were taken, then the suggestion of doing follow-up qualitative interviews may be even more valuable."
   ]
  },
  {
   "cell_type": "markdown",
   "id": "90af4428",
   "metadata": {},
   "source": [
    "## References\n",
    "\n",
    "Rakesh Kochhar, \"Unemployment rose higher in three months of COVID-19 than it did in two years of the Great Recession.\" Pew Research Center. Accessed 5 June 2021. \n",
    "https://www.pewresearch.org/fact-tank/2020/06/11/unemployment-rose-higher-in-three-months-of-covid-19-than-it-did-in-two-years-of-the-great-recession/\n",
    "\n",
    "Hally Bondy, \"61% of women are looking to change careers amid COVID-19\" NBC News. Accessed 07 June 2021. \n",
    "https://www.nbcnews.com/know-your-value/feature/61-women-are-looking-change-careers-amid-covid-19-here-ncna1241808\n",
    "\n",
    "\"Has COVID-19 impacted your career plans?\" Reddit. Accessed 3 July 2021.  \n",
    "https://www.reddit.com/r/SampleSize/comments/o6g1qp/academic_has_covid19_impacted_your_career_plans/\n",
    "\n",
    "Plot Likert. GitHub. Accessed 28 June 2021.\n",
    "https://github.com/nmalkin/plot-likert/"
   ]
  },
  {
   "cell_type": "markdown",
   "id": "710450ef",
   "metadata": {},
   "source": [
    "## Word Count\n",
    "\n",
    "The following code will count the number of words in Markdown cells. Code cells are not included.\n",
    "\n",
    "- `Main word count` is the number of words in the main body of the text, *excluding* references or appendices.\n",
    "- `References and appendices word count` is the number of words in any references or appendices.\n",
    "\n",
    "Only `Main word count` relates to the assignment word limit. There is no limit to the number of words that can be included in references or appendices. Please note that appendices should only be used to provide context or supporting information. *No marks will be directly awarded for material submitted in appendices*.\n",
    "\n",
    "Important:\n",
    "\n",
    "- Please do not modify the word count code!\n",
    "- To exclude references from your word count **you must** have a cell that starts with the text `## References`. Everything below this cell will not count towards the main word count.\n",
    "- If you are submitting additional material as appendices **you must** have a cell that starts with the text `## Appendices`. Everything below this cell will not count towards the main word count. If you do not have any appendices you can delete the `## Appendices` cell.\n",
    "- Code comments should only be used to explain details of the implementation, not for discussing your findings. All analysis commentary **must** be written in Markdown cells. *No marks will be awarded for analysis discussion submitted as comments in code cells*."
   ]
  },
  {
   "cell_type": "code",
   "execution_count": null,
   "id": "9310360a",
   "metadata": {},
   "outputs": [
    {
     "data": {
      "application/javascript": [
       "\n",
       "// Run this cell to update your word count.\n",
       "\n",
       "function wordcount() {\n",
       "    let wordCount = 0\n",
       "    let extraCount = 0\n",
       "    let mainBody = true\n",
       "\n",
       "    let cells = Jupyter.notebook.get_cells()\n",
       "    cells.forEach((cell) => {\n",
       "        if (cell.cell_type == 'markdown') {\n",
       "            let text = cell.get_text()\n",
       "            // Stop counting as main body when get to References or Appendices.\n",
       "            if (text.startsWith('## References') ||\n",
       "                text.startsWith('## Appendices')) {\n",
       "                mainBody = false\n",
       "            }\n",
       "            if (text.startsWith('## Word Count')) {\n",
       "                text = ''\n",
       "            }\n",
       "            if (text) {\n",
       "                let words = text.toLowerCase().match(/\\b[a-z\\d]+\\b/g)\n",
       "                if (words) {\n",
       "                    let cellCount = words.length\n",
       "                    if (mainBody) {\n",
       "                        wordCount += cellCount\n",
       "                    } else {\n",
       "                        extraCount += cellCount\n",
       "                    }\n",
       "                }\n",
       "            }\n",
       "        }\n",
       "    })\n",
       "    return [wordCount, extraCount]\n",
       "}\n",
       "\n",
       "let wc = wordcount()\n",
       "element.append(`Main word count: ${wc[0]} (References and appendices word count: ${wc[1]})`)"
      ],
      "text/plain": [
       "<IPython.core.display.Javascript object>"
      ]
     },
     "metadata": {},
     "output_type": "display_data"
    }
   ],
   "source": [
    "%%js\n",
    "\n",
    "// Run this cell to update your word count.\n",
    "\n",
    "function wordcount() {\n",
    "    let wordCount = 0\n",
    "    let extraCount = 0\n",
    "    let mainBody = true\n",
    "\n",
    "    let cells = Jupyter.notebook.get_cells()\n",
    "    cells.forEach((cell) => {\n",
    "        if (cell.cell_type == 'markdown') {\n",
    "            let text = cell.get_text()\n",
    "            // Stop counting as main body when get to References or Appendices.\n",
    "            if (text.startsWith('## References') ||\n",
    "                text.startsWith('## Appendices')) {\n",
    "                mainBody = false\n",
    "            }\n",
    "            if (text.startsWith('## Word Count')) {\n",
    "                text = ''\n",
    "            }\n",
    "            if (text) {\n",
    "                let words = text.toLowerCase().match(/\\b[a-z\\d]+\\b/g)\n",
    "                if (words) {\n",
    "                    let cellCount = words.length\n",
    "                    if (mainBody) {\n",
    "                        wordCount += cellCount\n",
    "                    } else {\n",
    "                        extraCount += cellCount\n",
    "                    }\n",
    "                }\n",
    "            }\n",
    "        }\n",
    "    })\n",
    "    return [wordCount, extraCount]\n",
    "}\n",
    "\n",
    "let wc = wordcount()\n",
    "element.append(`Main word count: ${wc[0]} (References and appendices word count: ${wc[1]})`)"
   ]
  }
 ],
 "metadata": {
  "celltoolbar": "Edit Metadata",
  "kernelspec": {
   "display_name": "Python 3",
   "language": "python",
   "name": "python3"
  },
  "language_info": {
   "codemirror_mode": {
    "name": "ipython",
    "version": 3
   },
   "file_extension": ".py",
   "mimetype": "text/x-python",
   "name": "python",
   "nbconvert_exporter": "python",
   "pygments_lexer": "ipython3",
   "version": "3.9.6"
  }
 },
 "nbformat": 4,
 "nbformat_minor": 5
}
